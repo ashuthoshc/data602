{
 "cells": [
  {
   "cell_type": "markdown",
   "metadata": {},
   "source": [
    "# Predicting the house price\n",
    "\n",
    "by Ashuthosh chandramouli"
   ]
  },
  {
   "cell_type": "markdown",
   "metadata": {},
   "source": [
    "## Repo Contents\n",
    "    * Data - The dataset was taken from Kaggle.com \"kc_house_data.csv(2.27 MB)\" I found this dataset right for my first ML assignment. Various other data are taken for reference.\n",
    "    * Notebooks - Jupyter notebook was the main platform for the project.\n",
    "    * HW1_Technical_notebook_AshuthoshChandramouli - mainly contains my code, explanation to the steps I have followed and few citation\n",
    "    * HW1_readme_AshuthoshChandramouli - contains the description of my assignment\n",
    "    * Summary notebook - Analysis of my report is done here"
   ]
  },
  {
   "cell_type": "markdown",
   "metadata": {},
   "source": [
    "As we all know buy a house in the present generation is not easy. There are multiple factors that influence us while buying the house.\n",
    "\n",
    "The dataset contains 21 different columns and 21613 rows in total. The columns describes various factors like square feet area, number of bedrooms, location etc. that are involved while buying a house or in simple  those are the factors which determine the price of the house.\n"
   ]
  },
  {
   "cell_type": "markdown",
   "metadata": {},
   "source": [
    "## Goal"
   ]
  },
  {
   "cell_type": "markdown",
   "metadata": {},
   "source": [
    "Since there are multiple factors involved in determining the price of the house. I need to train my model which will ease our work by just giving the requirement. "
   ]
  },
  {
   "cell_type": "markdown",
   "metadata": {},
   "source": []
  }
 ],
 "metadata": {
  "kernelspec": {
   "display_name": "Python 3",
   "language": "python",
   "name": "python3"
  },
  "language_info": {
   "codemirror_mode": {
    "name": "ipython",
    "version": 3
   },
   "file_extension": ".py",
   "mimetype": "text/x-python",
   "name": "python",
   "nbconvert_exporter": "python",
   "pygments_lexer": "ipython3",
   "version": "3.8.3"
  }
 },
 "nbformat": 4,
 "nbformat_minor": 4
}
